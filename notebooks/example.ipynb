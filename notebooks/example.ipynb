{
 "cells": [
  {
   "attachments": {},
   "cell_type": "markdown",
   "metadata": {},
   "source": [
    "# Image Similarity Example Notebook\n",
    "\n",
    "The goal of this short notebook is to demonstrate how image similarity can be determined using both SSIM and DVRS metrics in this package. We have provided 100 images from the NIH Chest X-Ray 14 dataset [[1](#references)] as an example."
   ]
  },
  {
   "cell_type": "code",
   "execution_count": 1,
   "metadata": {},
   "outputs": [],
   "source": [
    "import os\n",
    "import numpy as np\n",
    "from image_similarity import structural_comparison, dense_vector_comparison"
   ]
  },
  {
   "cell_type": "code",
   "execution_count": 2,
   "metadata": {},
   "outputs": [],
   "source": [
    "ds_path = './data/'\n",
    "ds = ds_path + np.array(os.listdir(ds_path), dtype=object)"
   ]
  },
  {
   "attachments": {},
   "cell_type": "markdown",
   "metadata": {},
   "source": [
    "## Structural Similarity Index Measure (SSIM)\n",
    "\n",
    "The `structural_comparison` function computes the pairwise SSIM score for the source image with every possible target image within the dataset and returns the top K matches. Here, we show how SSIM for the top 5 matches can be computed for the first image."
   ]
  },
  {
   "cell_type": "code",
   "execution_count": 3,
   "metadata": {},
   "outputs": [
    {
     "data": {
      "application/vnd.jupyter.widget-view+json": {
       "model_id": "44111cda2bf146ab9a7b9cebf5a66c76",
       "version_major": 2,
       "version_minor": 0
      },
      "text/plain": [
       "  0%|          | 0/100 [00:00<?, ?it/s]"
      ]
     },
     "metadata": {},
     "output_type": "display_data"
    },
    {
     "data": {
      "text/plain": [
       "array([['00008388_000.jpg', 1.0],\n",
       "       ['00006315_005.jpg', 0.5458415286237598],\n",
       "       ['00012681_002.jpg', 0.5332566812624236],\n",
       "       ['00009742_000.jpg', 0.5201728349405874],\n",
       "       ['00005966_001.jpg', 0.5194029108818702]], dtype=object)"
      ]
     },
     "execution_count": 3,
     "metadata": {},
     "output_type": "execute_result"
    }
   ],
   "source": [
    "structural_comparison(ds[0], ds, top_k=5)"
   ]
  },
  {
   "attachments": {},
   "cell_type": "markdown",
   "metadata": {},
   "source": [
    "## Dense Vector Representation (DVRS)\n",
    "\n",
    "The `dense_vector_comparison` function computes the pairwise DVRS score for the source image with every possible target image within the dataset and returns the top K matches. Here, we show how DVRS for the top 5 matches can be computed for the first image."
   ]
  },
  {
   "cell_type": "code",
   "execution_count": 6,
   "metadata": {},
   "outputs": [
    {
     "data": {
      "text/plain": [
       "array([['00008388_000.jpg', 0.9999997019767761],\n",
       "       ['00009503_000.jpg', 0.9795783162117004],\n",
       "       ['00011952_000.jpg', 0.9778636693954468],\n",
       "       ['00024020_000.jpg', 0.9774225354194641],\n",
       "       ['00006506_000.jpg', 0.9768178462982178]], dtype=object)"
      ]
     },
     "execution_count": 6,
     "metadata": {},
     "output_type": "execute_result"
    }
   ],
   "source": [
    "dense_vector_comparison(ds[0], ds, top_k=5)"
   ]
  },
  {
   "attachments": {},
   "cell_type": "markdown",
   "metadata": {},
   "source": [
    "## References\n",
    "\n",
    "[1] Wang, X., Peng, Y., Lu, L., Lu, Z., Bagheri, M., & Summers, R. M. (2017). Chestx-ray8: Hospital-scale chest x-ray database and benchmarks on weakly-supervised classification and localization of common thorax diseases. _In Proceedings of the IEEE conference on computer vision and pattern recognition_ (pp. 2097-2106)."
   ]
  }
 ],
 "metadata": {
  "kernelspec": {
   "display_name": "meta-segment",
   "language": "python",
   "name": "python3"
  },
  "language_info": {
   "codemirror_mode": {
    "name": "ipython",
    "version": 3
   },
   "file_extension": ".py",
   "mimetype": "text/x-python",
   "name": "python",
   "nbconvert_exporter": "python",
   "pygments_lexer": "ipython3",
   "version": "3.9.16"
  },
  "orig_nbformat": 4
 },
 "nbformat": 4,
 "nbformat_minor": 2
}
